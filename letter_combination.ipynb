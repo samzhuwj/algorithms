{
 "cells": [
  {
   "cell_type": "markdown",
   "metadata": {},
   "source": [
    "# Letter Combination\n",
    "Goal: Given a digit string, return all possible letter\n",
    "combinations that the number could represent.\n",
    "\n",
    "input: digit string '23'  \n",
    "output: [\"ad\", \"ae\", \"af\", \"bd\", \"be\", \"bf\", \"cd\", \"ce\", \"cf\"]"
   ]
  },
  {
   "cell_type": "code",
   "execution_count": 17,
   "metadata": {},
   "outputs": [],
   "source": [
    "def letter_combinations(digits:\"str\")->\"List[str]\":\n",
    "    kmaps = {\n",
    "        \"2\": \"abc\",\n",
    "        \"3\": \"def\",\n",
    "        \"4\": \"ghi\",\n",
    "        \"5\": \"jkl\",\n",
    "        \"6\": \"mno\",\n",
    "        \"7\": \"pqrs\",\n",
    "        \"8\": \"tuv\",\n",
    "        \"9\": \"wxyz\"\n",
    "    }\n",
    "    if digits == \"\":\n",
    "        return []    \n",
    "    ans = ['']\n",
    "    for num in digits:\n",
    "        tmp = []\n",
    "        for an in ans:\n",
    "            for char in kmaps[num]:\n",
    "                tmp.append(an+char)\n",
    "        ans = tmp\n",
    "    return ans"
   ]
  },
  {
   "cell_type": "code",
   "execution_count": 18,
   "metadata": {},
   "outputs": [
    {
     "name": "stdout",
     "output_type": "stream",
     "text": [
      "['ad', 'ae', 'af', 'bd', 'be', 'bf', 'cd', 'ce', 'cf']\n"
     ]
    }
   ],
   "source": [
    "if __name__ == \"__main__\":\n",
    "    digit_string = \"23\"\n",
    "    print(letter_combinations(digit_string))"
   ]
  },
  {
   "cell_type": "code",
   "execution_count": 19,
   "metadata": {},
   "outputs": [
    {
     "name": "stdout",
     "output_type": "stream",
     "text": [
      "['tw', 'tx', 'ty', 'tz', 'uw', 'ux', 'uy', 'uz', 'vw', 'vx', 'vy', 'vz']\n"
     ]
    }
   ],
   "source": [
    "if __name__ == \"__main__\":\n",
    "    digit_string = \"89\"\n",
    "    print(letter_combinations(digit_string))"
   ]
  },
  {
   "cell_type": "code",
   "execution_count": null,
   "metadata": {},
   "outputs": [],
   "source": []
  }
 ],
 "metadata": {
  "kernelspec": {
   "display_name": "Python 3",
   "language": "python",
   "name": "python3"
  },
  "language_info": {
   "codemirror_mode": {
    "name": "ipython",
    "version": 3
   },
   "file_extension": ".py",
   "mimetype": "text/x-python",
   "name": "python",
   "nbconvert_exporter": "python",
   "pygments_lexer": "ipython3",
   "version": "3.6.4"
  }
 },
 "nbformat": 4,
 "nbformat_minor": 2
}
