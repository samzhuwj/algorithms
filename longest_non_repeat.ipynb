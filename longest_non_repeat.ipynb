{
 "cells": [
  {
   "cell_type": "markdown",
   "metadata": {},
   "source": [
    "# Longest Non Repeat\n",
    "Given a string, find the length of the longest substring without repeating characters.\n",
    "\n",
    "For example:\n",
    "\n",
    "ins: \"abcabcbb\"\n",
    "outs: 3, the longest substring is \"abc\"\n",
    "\n",
    "ins: \"bbbbb\"\n",
    "outs: 1, the longest substring is \"b\"\n",
    "\n",
    "ins: \"pwwkew\"\n",
    "outs: 3, the longest substring is \"wke\""
   ]
  },
  {
   "cell_type": "code",
   "execution_count": 2,
   "metadata": {},
   "outputs": [
    {
     "name": "stdout",
     "output_type": "stream",
     "text": [
      "abcabcdefbb\n",
      "6\n"
     ]
    }
   ],
   "source": [
    "def longest_non_repeat(s):\n",
    "    start, maxlen = 0, 0\n",
    "    used_char = {}\n",
    "    for i, char in enumerate(s):\n",
    "        if char in used_char and start <= used_char[char]:\n",
    "            start = used_char[char] + 1\n",
    "        else:\n",
    "            maxlen = max(maxlen, i-start+1)\n",
    "        used_char[char] = i\n",
    "    return maxlen\n",
    "\n",
    "a = \"abcabcdefbb\"\n",
    "print(a)\n",
    "print(longest_non_repeat(a))"
   ]
  }
 ],
 "metadata": {
  "kernelspec": {
   "display_name": "Python 3",
   "language": "python",
   "name": "python3"
  },
  "language_info": {
   "codemirror_mode": {
    "name": "ipython",
    "version": 3
   },
   "file_extension": ".py",
   "mimetype": "text/x-python",
   "name": "python",
   "nbconvert_exporter": "python",
   "pygments_lexer": "ipython3",
   "version": "3.6.4"
  }
 },
 "nbformat": 4,
 "nbformat_minor": 2
}
