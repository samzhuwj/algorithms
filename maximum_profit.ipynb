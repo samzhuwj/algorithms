{
 "cells": [
  {
   "cell_type": "markdown",
   "metadata": {},
   "source": [
    "# Maximum Profit\n",
    "Goal: You have a list for which the ith element is the price of a given stock on day i. If you were only permitted to complete at most one transaction (ie, buy one and sell one share of the stock), design an algorithm to find the maximum profit.\n",
    "\n",
    "For example:  \n",
    "input: [7, 1, 5, 3, 6, 4]    \n",
    "output: 5 # 6-1  \n",
    "input: [7, 6, 4, 3, 1]  \n",
    "output: 0  \n"
   ]
  },
  {
   "cell_type": "code",
   "execution_count": 10,
   "metadata": {},
   "outputs": [],
   "source": [
    "# O(n^2) time\n",
    "def max_profit_bad(prices):\n",
    "    \"\"\"\n",
    "    :type prices: List[int]\n",
    "    :rtype: int\n",
    "    \"\"\"\n",
    "    max_so_far = 0\n",
    "    for i in range(0, len(prices) - 1):\n",
    "        for j in range(i + 1, len(prices)):\n",
    "            max_so_far = max(max_so_far, prices[j] - prices[i])\n",
    "    return max_so_far"
   ]
  },
  {
   "cell_type": "code",
   "execution_count": 11,
   "metadata": {},
   "outputs": [],
   "source": [
    "# O(n) time\n",
    "def max_profit_optimized(prices):\n",
    "    \"\"\"\n",
    "    input: [7, 1, 5, 3, 6, 4]\n",
    "    diff : [X, -6, 4, -2, 3, -2]\n",
    "    :type prices: List[int]\n",
    "    :rtype: int\n",
    "    \"\"\"\n",
    "    cur_max, max_so_far = 0, 0\n",
    "    for i in range(1, len(prices)):\n",
    "        cur_max = max(0, cur_max + prices[i] - prices[i-1])\n",
    "        max_so_far = max(max_so_far, cur_max)\n",
    "    return max_so_far"
   ]
  },
  {
   "cell_type": "code",
   "execution_count": 12,
   "metadata": {},
   "outputs": [
    {
     "data": {
      "text/plain": [
       "5"
      ]
     },
     "execution_count": 12,
     "metadata": {},
     "output_type": "execute_result"
    }
   ],
   "source": [
    "p = [7, 1, 5, 3, 6, 4]\n",
    "max_profit_bad(p)"
   ]
  },
  {
   "cell_type": "code",
   "execution_count": 9,
   "metadata": {},
   "outputs": [
    {
     "data": {
      "text/plain": [
       "5"
      ]
     },
     "execution_count": 9,
     "metadata": {},
     "output_type": "execute_result"
    }
   ],
   "source": [
    "max_profit_optimized(p)"
   ]
  },
  {
   "cell_type": "code",
   "execution_count": 13,
   "metadata": {},
   "outputs": [
    {
     "data": {
      "text/plain": [
       "0"
      ]
     },
     "execution_count": 13,
     "metadata": {},
     "output_type": "execute_result"
    }
   ],
   "source": [
    "test = [7, 6, 4, 3, 1] \n",
    "max_profit_bad(test)"
   ]
  },
  {
   "cell_type": "code",
   "execution_count": 14,
   "metadata": {},
   "outputs": [
    {
     "data": {
      "text/plain": [
       "0"
      ]
     },
     "execution_count": 14,
     "metadata": {},
     "output_type": "execute_result"
    }
   ],
   "source": [
    "test = [7, 6, 4, 3, 1] \n",
    "max_profit_optimized(test)"
   ]
  },
  {
   "cell_type": "code",
   "execution_count": null,
   "metadata": {},
   "outputs": [],
   "source": []
  }
 ],
 "metadata": {
  "kernelspec": {
   "display_name": "Python 3",
   "language": "python",
   "name": "python3"
  },
  "language_info": {
   "codemirror_mode": {
    "name": "ipython",
    "version": 3
   },
   "file_extension": ".py",
   "mimetype": "text/x-python",
   "name": "python",
   "nbconvert_exporter": "python",
   "pygments_lexer": "ipython3",
   "version": "3.6.4"
  }
 },
 "nbformat": 4,
 "nbformat_minor": 2
}
