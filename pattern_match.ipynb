{
 "cells": [
  {
   "cell_type": "markdown",
   "metadata": {},
   "source": [
    "# Pattern Match\n",
    "Goal: Given a pattern and a string str, find if str follows the same pattern.\n",
    "\n",
    "For example:\n",
    "input: pattern = \"abab\", str = \"redblueredblue\"  \n",
    "output: true  \n",
    "input: pattern = \"aaaa\", str = \"asdasdasdasd\"  \n",
    "output: true  \n",
    "input: pattern = \"aabb\", str = \"xyzabcxzyabc\"  \n",
    "output: false"
   ]
  },
  {
   "cell_type": "code",
   "execution_count": 6,
   "metadata": {},
   "outputs": [],
   "source": [
    "def pattern_match(pattern, string):\n",
    "    \"\"\"\n",
    "    :type pattern: str\n",
    "    :type string: str\n",
    "    :rtype: bool\n",
    "    \"\"\"\n",
    "    return backtrack(pattern, string, {})\n",
    "\n",
    "\n",
    "def backtrack(pattern, string, dic):\n",
    "    print(dic)\n",
    "    if len(pattern) == 0 and len(string) > 0:\n",
    "        return False\n",
    "    if len(pattern) == len(string) == 0:\n",
    "        return True\n",
    "    for end in range(1, len(string)-len(pattern)+2):\n",
    "        if pattern[0] not in dic and string[:end] not in dic.values():\n",
    "            dic[pattern[0]] = string[:end]\n",
    "            if backtrack(pattern[1:], string[end:], dic):\n",
    "                return True\n",
    "            del dic[pattern[0]]\n",
    "        elif pattern[0] in dic and dic[pattern[0]] == string[:end]:\n",
    "            if backtrack(pattern[1:], string[end:], dic):\n",
    "                return True\n",
    "    return False"
   ]
  },
  {
   "cell_type": "code",
   "execution_count": 7,
   "metadata": {},
   "outputs": [
    {
     "name": "stdout",
     "output_type": "stream",
     "text": [
      "{}\n",
      "{'a': 'r'}\n",
      "{'a': 'r', 'b': 'e'}\n",
      "{'a': 'r', 'b': 'ed'}\n",
      "{'a': 'r', 'b': 'edb'}\n",
      "{'a': 'r', 'b': 'edbl'}\n",
      "{'a': 'r', 'b': 'edblu'}\n",
      "{'a': 'r', 'b': 'edblue'}\n",
      "{'a': 'r', 'b': 'edblue'}\n",
      "{'a': 'r', 'b': 'edblue'}\n",
      "True\n",
      "{}\n",
      "{'a': 'a'}\n",
      "{'a': 'as'}\n",
      "{'a': 'asd'}\n",
      "{'a': 'asd'}\n",
      "{'a': 'asd'}\n",
      "{'a': 'asd'}\n",
      "True\n",
      "{}\n",
      "{'a': 'x'}\n",
      "{'a': 'xy'}\n",
      "{'a': 'xyz'}\n",
      "{'a': 'xyza'}\n",
      "{'a': 'xyzab'}\n",
      "{'a': 'xyzabc'}\n",
      "{'a': 'xyzabcx'}\n",
      "{'a': 'xyzabcxz'}\n",
      "{'a': 'xyzabcxzy'}\n",
      "False\n"
     ]
    }
   ],
   "source": [
    "if __name__ == \"__main__\":\n",
    "    pattern1 = \"abab\"\n",
    "    string1 = \"redblueredblue\"\n",
    "    pattern2 = \"aaaa\"\n",
    "    string2 = \"asdasdasdasd\"\n",
    "    pattern3 = \"aabb\"\n",
    "    string3 = \"xyzabcxzyabc\"\n",
    "    print(pattern_match(pattern1, string1))\n",
    "    print(pattern_match(pattern2, string2))\n",
    "    print(pattern_match(pattern3, string3))"
   ]
  },
  {
   "cell_type": "code",
   "execution_count": null,
   "metadata": {},
   "outputs": [],
   "source": []
  }
 ],
 "metadata": {
  "kernelspec": {
   "display_name": "Python 3",
   "language": "python",
   "name": "python3"
  },
  "language_info": {
   "codemirror_mode": {
    "name": "ipython",
    "version": 3
   },
   "file_extension": ".py",
   "mimetype": "text/x-python",
   "name": "python",
   "nbconvert_exporter": "python",
   "pygments_lexer": "ipython3",
   "version": "3.6.4"
  }
 },
 "nbformat": 4,
 "nbformat_minor": 2
}
