{
 "cells": [
  {
   "cell_type": "markdown",
   "metadata": {},
   "source": [
    "# Flatten\n",
    "Implement Flatten Arrays.\n",
    "Given an array that may contain nested arrays,\n",
    "give a single resultant array.\n",
    "function flatten(input){\n",
    "}\n",
    "\n",
    "For example: \n",
    "\n",
    "Input: var input = [2, 1, [3, [4, 5], 6], 7, [8]];\n",
    "\n",
    "      flatten(input);\n",
    "\n",
    "Output: [2, 1, 3, 4, 5, 6, 7, 8]"
   ]
  },
  {
   "cell_type": "code",
   "execution_count": 12,
   "metadata": {},
   "outputs": [
    {
     "data": {
      "text/plain": [
       "[2, 1, 3, 4, 5, 6, 7, 8]"
      ]
     },
     "execution_count": 12,
     "metadata": {},
     "output_type": "execute_result"
    }
   ],
   "source": [
    "nl = [2, 1, [3, [4, 5], 6], 7, [8]]\n",
    "\n",
    "def list_flatten(l, a=None):\n",
    "    a = list(a) if isinstance(a, (list, tuple)) else []\n",
    "    for i in l:\n",
    "        if isinstance(i, (list, tuple)):\n",
    "            a = list_flatten(i, a)\n",
    "        else:\n",
    "            a.append(i)\n",
    "    return a\n",
    "\n",
    "list_flatten(nl)"
   ]
  }
 ],
 "metadata": {
  "kernelspec": {
   "display_name": "Python 3",
   "language": "python",
   "name": "python3"
  },
  "language_info": {
   "codemirror_mode": {
    "name": "ipython",
    "version": 3
   },
   "file_extension": ".py",
   "mimetype": "text/x-python",
   "name": "python",
   "nbconvert_exporter": "python",
   "pygments_lexer": "ipython3",
   "version": "3.6.4"
  }
 },
 "nbformat": 4,
 "nbformat_minor": 2
}
