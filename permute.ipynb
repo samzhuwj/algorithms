{
 "cells": [
  {
   "cell_type": "markdown",
   "metadata": {},
   "source": [
    "# Permute\n",
    "Goal: Given a collection of distinct numbers, return all possible permutations.\n",
    "\n",
    "For example:  \n",
    "input: [1,2,3]  \n",
    "output: [\n",
    "   [1,2,3],\n",
    "   [1,3,2],\n",
    "   [2,1,3],\n",
    "   [2,3,1],\n",
    "   [3,1,2],\n",
    "   [3,2,1]\n",
    " ]"
   ]
  },
  {
   "cell_type": "code",
   "execution_count": 8,
   "metadata": {},
   "outputs": [],
   "source": [
    "def permute(nums):\n",
    "    perms = [[]]\n",
    "    for n in nums:\n",
    "        new_perms = []\n",
    "        for perm in perms:\n",
    "            for i in range(len(perm)+1):\n",
    "                # insert n\n",
    "                new_perms.append(perm[:i]+[n]+perm[i:])\n",
    "                print(i, perm[:i], [n], perm[i:], \"->\", new_perms)\n",
    "        perms = new_perms\n",
    "    return perms"
   ]
  },
  {
   "cell_type": "code",
   "execution_count": 9,
   "metadata": {},
   "outputs": [
    {
     "name": "stdout",
     "output_type": "stream",
     "text": [
      "[1, 2, 3]\n",
      "0 [] [1] [] -> [[1]]\n",
      "0 [] [2] [1] -> [[2, 1]]\n",
      "1 [1] [2] [] -> [[2, 1], [1, 2]]\n",
      "0 [] [3] [2, 1] -> [[3, 2, 1]]\n",
      "1 [2] [3] [1] -> [[3, 2, 1], [2, 3, 1]]\n",
      "2 [2, 1] [3] [] -> [[3, 2, 1], [2, 3, 1], [2, 1, 3]]\n",
      "0 [] [3] [1, 2] -> [[3, 2, 1], [2, 3, 1], [2, 1, 3], [3, 1, 2]]\n",
      "1 [1] [3] [2] -> [[3, 2, 1], [2, 3, 1], [2, 1, 3], [3, 1, 2], [1, 3, 2]]\n",
      "2 [1, 2] [3] [] -> [[3, 2, 1], [2, 3, 1], [2, 1, 3], [3, 1, 2], [1, 3, 2], [1, 2, 3]]\n"
     ]
    },
    {
     "data": {
      "text/plain": [
       "[[3, 2, 1], [2, 3, 1], [2, 1, 3], [3, 1, 2], [1, 3, 2], [1, 2, 3]]"
      ]
     },
     "execution_count": 9,
     "metadata": {},
     "output_type": "execute_result"
    }
   ],
   "source": [
    "a = [1,2,3]\n",
    "print(a)\n",
    "# print(permute(a))\n",
    "permute(a)"
   ]
  },
  {
   "cell_type": "code",
   "execution_count": null,
   "metadata": {},
   "outputs": [],
   "source": []
  }
 ],
 "metadata": {
  "kernelspec": {
   "display_name": "Python 3",
   "language": "python",
   "name": "python3"
  },
  "language_info": {
   "codemirror_mode": {
    "name": "ipython",
    "version": 3
   },
   "file_extension": ".py",
   "mimetype": "text/x-python",
   "name": "python",
   "nbconvert_exporter": "python",
   "pygments_lexer": "ipython3",
   "version": "3.6.4"
  }
 },
 "nbformat": 4,
 "nbformat_minor": 2
}
