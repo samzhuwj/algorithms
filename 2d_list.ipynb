{
 "cells": [
  {
   "cell_type": "markdown",
   "metadata": {},
   "source": [
    "定义一个20*5的二维数组，用来存储某班级20位学员的5门课的成绩；这5门课按存储顺序依次为：core C++，coreJava，Servlet，JSP和EJB。\n",
    "\n",
    "（1）循环给二维数组的每一个元素赋0~100之间的随机整数。\n",
    "\n",
    "（2）按照列表的方式输出这些学员的每门课程的成绩。\n",
    "\n",
    "（3）要求编写程序求每个学员的总分，将其保留在另外一个一维数组中。\n",
    "\n",
    "（4）要求编写程序求所有学员的某门课程的平均分。"
   ]
  },
  {
   "cell_type": "code",
   "execution_count": 3,
   "metadata": {},
   "outputs": [
    {
     "name": "stdout",
     "output_type": "stream",
     "text": [
      "score of every one in C++:\n",
      "[76, 38, 38, 42, 59, 70, 86, 35, 88, 44, 25, 21, 22, 41, 28, 90, 20, 1, 79, 22]\n",
      "score of every one in Java:\n",
      "[32, 71, 24, 5, 20, 43, 44, 80, 62, 73, 36, 36, 53, 74, 52, 41, 94, 7, 0, 64]\n",
      "score of every one in Servlet:\n",
      "[7, 61, 4, 59, 90, 29, 30, 60, 49, 25, 71, 30, 84, 42, 46, 89, 87, 64, 2, 11]\n",
      "score of every one in JSP:\n",
      "[37, 48, 59, 13, 39, 73, 29, 16, 34, 11, 62, 48, 64, 46, 30, 51, 81, 14, 62, 94]\n",
      "score of every one in EJB:\n",
      "[76, 82, 10, 14, 80, 5, 82, 20, 7, 93, 63, 100, 35, 40, 89, 42, 8, 20, 61, 91]\n",
      "\n",
      "\n",
      "NEXT IS EVERY ONE SCORE IN EVERY COURSE:\n",
      "C++\n",
      "Java\n",
      "Servlet\n",
      "JSP\n",
      "EJB\n",
      "\t\n",
      "[[76, 32, 7, 37, 76], [38, 71, 61, 48, 82], [38, 24, 4, 59, 10], [42, 5, 59, 13, 14], [59, 20, 90, 39, 80], [70, 43, 29, 73, 5], [86, 44, 30, 29, 82], [35, 80, 60, 16, 20], [88, 62, 49, 34, 7], [44, 73, 25, 11, 93], [25, 36, 71, 62, 63], [21, 36, 30, 48, 100], [22, 53, 84, 64, 35], [41, 74, 42, 46, 40], [28, 52, 46, 30, 89], [90, 41, 89, 51, 42], [20, 94, 87, 81, 8], [1, 7, 64, 14, 20], [79, 0, 2, 62, 61], [22, 64, 11, 94, 91]]\n",
      "\n",
      "\n",
      "every one all score:\t [228, 300, 135, 133, 288, 220, 271, 211, 240, 246, 257, 235, 258, 243, 245, 313, 290, 106, 204, 282]\n",
      "every course of average score:\t [46.25, 45.55, 47.0, 45.55, 50.9]\n"
     ]
    }
   ],
   "source": [
    "from __future__ import division\n",
    "import random\n",
    "\n",
    "\n",
    "def score(score_list,course_list,student_num):\n",
    "    course_num = len(course_list)\n",
    "    \n",
    "    every_score = [[score_list[j][i] for j in range(course_num)] for i in range(student_num)]\n",
    "    \n",
    "    every_total = [sum(every_score[i]) for i in range(student_num)]\n",
    "    \n",
    "    ave_course = [sum(score_list[i])/len(score_list[i]) for i in range(len(score_list))]\n",
    "    \n",
    "    return (every_score,every_total,ave_course)\n",
    "\n",
    "if __name__==\"__main__\":\n",
    "    \n",
    "    course_list = [\"C++\",\"Java\",\"Servlet\",\"JSP\",\"EJB\"]\n",
    "    student_num = 20\n",
    "    \n",
    "    score_list = [[random.randint(0,100) for i in range(student_num)] for j in range(len(course_list))]\n",
    "    for i in range(len(course_list)):\n",
    "        print(\"score of every one in %s:\"%course_list[i])\n",
    "        print(score_list[i])\n",
    "\n",
    "    every_score,every_total,ave_one_course = score(score_list,course_list,student_num)\n",
    "    print(\"\\n\")\n",
    "    print(\"NEXT IS EVERY ONE SCORE IN EVERY COURSE:\")\n",
    "    for name in course_list:\n",
    "        print(name),\n",
    "    print(\"\\t\")\n",
    "    print(every_score)\n",
    "    print(\"\\n\")\n",
    "    print(\"every one all score:\\t\",every_total)\n",
    "    print(\"every course of average score:\\t\",ave_one_course)"
   ]
  },
  {
   "cell_type": "code",
   "execution_count": null,
   "metadata": {},
   "outputs": [],
   "source": []
  }
 ],
 "metadata": {
  "kernelspec": {
   "display_name": "Python 3",
   "language": "python",
   "name": "python3"
  },
  "language_info": {
   "codemirror_mode": {
    "name": "ipython",
    "version": 3
   },
   "file_extension": ".py",
   "mimetype": "text/x-python",
   "name": "python",
   "nbconvert_exporter": "python",
   "pygments_lexer": "ipython3",
   "version": "3.6.4"
  }
 },
 "nbformat": 4,
 "nbformat_minor": 2
}
