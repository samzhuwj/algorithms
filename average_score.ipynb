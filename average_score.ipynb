{
 "cells": [
  {
   "cell_type": "markdown",
   "metadata": {},
   "source": [
    "定义一个int型的一维数组，包含40个元素，用来存储每个学员的成绩，循环产生40个0~100之间的随机整数，\n",
    "(1)将它们存储到一维数组中，然后统计成绩低于平均分的学员的人数，并输出出来。\n",
    "(2)将这40个成绩按照从高到低的顺序输出出来。"
   ]
  },
  {
   "cell_type": "code",
   "execution_count": 3,
   "metadata": {},
   "outputs": [
    {
     "name": "stdout",
     "output_type": "stream",
     "text": [
      "the score of average is: 53.175\n",
      "the number of less average is: 21\n",
      "the every score is[from big to small]: [100, 100, 96, 94, 92, 89, 86, 82, 82, 78, 69, 65, 65, 65, 64, 63, 62, 62, 61, 52, 50, 50, 46, 46, 45, 45, 44, 41, 33, 29, 28, 28, 27, 23, 21, 16, 13, 9, 5, 1]\n"
     ]
    }
   ],
   "source": [
    "import random\n",
    "\n",
    "def make_score(num):\n",
    "    score = [random.randint(0,100) for i in range(num)]\n",
    "    return score\n",
    "\n",
    "def less_average(score):\n",
    "    num = len(score)\n",
    "    sum_score = sum(score)\n",
    "    ave_num = sum_score/float(num)\n",
    "    less_ave = [i for i in score if i<ave_num]\n",
    "    return (ave_num,len(less_ave))\n",
    "\n",
    "if __name__==\"__main__\":\n",
    "    score = make_score(40)\n",
    "    average_num,less_num = less_average(score)\n",
    "    print('the score of average is:',average_num)\n",
    "    print(\"the number of less average is:\",less_num)\n",
    "    print(\"the every score is[from big to small]:\",sorted(score,reverse=True))"
   ]
  },
  {
   "cell_type": "code",
   "execution_count": null,
   "metadata": {},
   "outputs": [],
   "source": []
  }
 ],
 "metadata": {
  "kernelspec": {
   "display_name": "Python 3",
   "language": "python",
   "name": "python3"
  },
  "language_info": {
   "codemirror_mode": {
    "name": "ipython",
    "version": 3
   },
   "file_extension": ".py",
   "mimetype": "text/x-python",
   "name": "python",
   "nbconvert_exporter": "python",
   "pygments_lexer": "ipython3",
   "version": "3.6.4"
  }
 },
 "nbformat": 4,
 "nbformat_minor": 2
}
