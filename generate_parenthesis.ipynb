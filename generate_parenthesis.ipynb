{
 "cells": [
  {
   "cell_type": "markdown",
   "metadata": {},
   "source": [
    "# Generate Parenthesis\n",
    "Goal: given n pairs of parentheses, write a function to generate all cominations of well-formed parentheses\n",
    "\n",
    "For example:  \n",
    "input: n = 3  \n",
    "output: \n",
    "[\n",
    "  \"((()))\",\n",
    "  \"(()())\",\n",
    "  \"(())()\",\n",
    "  \"()(())\",\n",
    "  \"()()()\"\n",
    "]"
   ]
  },
  {
   "cell_type": "code",
   "execution_count": 7,
   "metadata": {},
   "outputs": [],
   "source": [
    "def gen_parenthesis(n:'int')->'List[str]':\n",
    "    res = []\n",
    "    add_pair(res,'',n,0)\n",
    "    return res"
   ]
  },
  {
   "cell_type": "code",
   "execution_count": 12,
   "metadata": {},
   "outputs": [],
   "source": [
    "def add_pair(res,s,left,right):\n",
    "    if left == 0 and right == 0:\n",
    "        res.append(s)\n",
    "        return\n",
    "    if right > 0:\n",
    "        add_pair(res,s+')',left,right-1)\n",
    "    if left > 0:\n",
    "        add_pair(res,s+'(',left-1,right+1)"
   ]
  },
  {
   "cell_type": "code",
   "execution_count": 11,
   "metadata": {},
   "outputs": [
    {
     "name": "stdout",
     "output_type": "stream",
     "text": [
      "['()()()()', '()()(())', '()(())()', '()(()())', '()((()))', '(())()()', '(())(())', '(()())()', '(()()())', '(()(()))', '((()))()', '((())())', '((()()))', '(((())))']\n"
     ]
    }
   ],
   "source": [
    "if __name__ == '__main__':\n",
    "    print(gen_parenthesis(4))"
   ]
  },
  {
   "cell_type": "code",
   "execution_count": null,
   "metadata": {},
   "outputs": [],
   "source": []
  }
 ],
 "metadata": {
  "kernelspec": {
   "display_name": "Python 3",
   "language": "python",
   "name": "python3"
  },
  "language_info": {
   "codemirror_mode": {
    "name": "ipython",
    "version": 3
   },
   "file_extension": ".py",
   "mimetype": "text/x-python",
   "name": "python",
   "nbconvert_exporter": "python",
   "pygments_lexer": "ipython3",
   "version": "3.6.4"
  }
 },
 "nbformat": 4,
 "nbformat_minor": 2
}
