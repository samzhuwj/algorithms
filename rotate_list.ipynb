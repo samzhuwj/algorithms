{
 "cells": [
  {
   "cell_type": "markdown",
   "metadata": {},
   "source": [
    "# Rotate List\n",
    "Goal: Rotate a list of n elements to the right by k steps.\n",
    "\n",
    "For example:\n",
    "\n",
    "with n = 7 and k = 3,\n",
    "the list [1,2,3,4,5,6,7] is rotated to [5,6,7,1,2,3,4]"
   ]
  },
  {
   "cell_type": "code",
   "execution_count": null,
   "metadata": {},
   "outputs": [],
   "source": [
    "# method 1\n",
    "# Rotate the entire list 'k' times\n",
    "# T(n)- O(nk)\n",
    "def rotate_one_by_one(nums, k):\n",
    "    n = len(nums)\n",
    "    for i in range(k):\n",
    "        temp = nums[n-1]\n",
    "        for j in range(n-1, 0, -1):\n",
    "            nums[j] = nums[j-1]\n",
    "        nums[0] = temp"
   ]
  },
  {
   "cell_type": "code",
   "execution_count": null,
   "metadata": {},
   "outputs": [],
   "source": [
    "lt =  [1,2,3,4,5,6,7]\n",
    "sp = 3\n",
    "print(rotate_one_by_one(lt, sp))"
   ]
  },
  {
   "cell_type": "code",
   "execution_count": null,
   "metadata": {},
   "outputs": [],
   "source": [
    "# method 2\n",
    "# Reverse segments of the array, followed by the entire array\n",
    "# T(n)- O(n)\n",
    "def rotate(nums, k):\n",
    "    n = len(nums)\n",
    "    k = k % n\n",
    "    reverse(nums, 0, n - k - 1)\n",
    "    reverse(nums, n - k, n - 1)\n",
    "    reverse(nums, 0, n - 1)\n",
    "    \n",
    "    \n",
    "def reverse(arr, a, b):\n",
    "    while a < b:\n",
    "        arr[a], arr[b] = arr[b], arr[a]\n",
    "        a += 1\n",
    "        b -= 1"
   ]
  },
  {
   "cell_type": "code",
   "execution_count": null,
   "metadata": {},
   "outputs": [],
   "source": [
    "lt =  [1,2,3,4,5,6,7]\n",
    "sp = 3\n",
    "print(rotate_one_by_one(lt, sp))"
   ]
  },
  {
   "cell_type": "code",
   "execution_count": null,
   "metadata": {},
   "outputs": [],
   "source": []
  }
 ],
 "metadata": {
  "kernelspec": {
   "display_name": "Python 3",
   "language": "python",
   "name": "python3"
  },
  "language_info": {
   "codemirror_mode": {
    "name": "ipython",
    "version": 3
   },
   "file_extension": ".py",
   "mimetype": "text/x-python",
   "name": "python",
   "nbconvert_exporter": "python",
   "pygments_lexer": "ipython3",
   "version": "3.6.4"
  }
 },
 "nbformat": 4,
 "nbformat_minor": 2
}
