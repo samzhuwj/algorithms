{
 "cells": [
  {
   "cell_type": "code",
   "execution_count": 1,
   "metadata": {},
   "outputs": [],
   "source": [
    "def extended_gcd(a,b):\n",
    "    \"\"\"\n",
    "    extended Greatest Common Divisor (GCD) algorithm\n",
    "    return s,t,g\n",
    "    such that a s + b t = GCD(a, b)\n",
    "    and s and t are coprime\n",
    "    \"\"\"    \n",
    "    old_s, s = 1, 0\n",
    "    old_t, t = 0, 1\n",
    "    old_r, r = a, b\n",
    "    \n",
    "    while r != 0:\n",
    "        quotient = old_r / r\n",
    "        \n",
    "        old_r, r = r, old_r - quotient * r\n",
    "        old_s, s = s, old_s - quotient * s\n",
    "        old_t, t = t, old_t - quotient * t\n",
    "    \n",
    "    return old_s, old_t, old_r"
   ]
  },
  {
   "cell_type": "code",
   "execution_count": 2,
   "metadata": {},
   "outputs": [
    {
     "data": {
      "text/plain": [
       "(0, 1, 24)"
      ]
     },
     "execution_count": 2,
     "metadata": {},
     "output_type": "execute_result"
    }
   ],
   "source": [
    "extended_gcd(8,24)"
   ]
  },
  {
   "cell_type": "code",
   "execution_count": null,
   "metadata": {},
   "outputs": [],
   "source": []
  }
 ],
 "metadata": {
  "kernelspec": {
   "display_name": "Python 3",
   "language": "python",
   "name": "python3"
  },
  "language_info": {
   "codemirror_mode": {
    "name": "ipython",
    "version": 3
   },
   "file_extension": ".py",
   "mimetype": "text/x-python",
   "name": "python",
   "nbconvert_exporter": "python",
   "pygments_lexer": "ipython3",
   "version": "3.6.4"
  }
 },
 "nbformat": 4,
 "nbformat_minor": 2
}
