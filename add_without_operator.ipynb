{
 "cells": [
  {
   "cell_type": "markdown",
   "metadata": {},
   "source": [
    "# Add without Operator\n",
    "Goal: add two positive integers without using the '+' operator\n",
    "\n",
    "For example:  \n",
    "input: 8 9  \n",
    "output: 17"
   ]
  },
  {
   "cell_type": "code",
   "execution_count": 9,
   "metadata": {},
   "outputs": [
    {
     "name": "stdout",
     "output_type": "stream",
     "text": [
      "8 9\n",
      "17\n"
     ]
    }
   ],
   "source": [
    "def addWithoutOperator(x, y):\n",
    "    \"\"\"\n",
    "    use bitwise operations to add two positive integers\n",
    "    \"\"\"\n",
    "    while y != 0:\n",
    "        carry = x & y\n",
    "        x = x ^ y\n",
    "        y = carry << 1\n",
    "    print(x)\n",
    "\n",
    "\n",
    "def main():\n",
    "    x, y = map(int, input().split())\n",
    "    addWithoutOperator(x, y)\n",
    "\n",
    "if __name__ == '__main__':\n",
    "    main()"
   ]
  },
  {
   "cell_type": "code",
   "execution_count": null,
   "metadata": {},
   "outputs": [],
   "source": []
  }
 ],
 "metadata": {
  "kernelspec": {
   "display_name": "Python 3",
   "language": "python",
   "name": "python3"
  },
  "language_info": {
   "codemirror_mode": {
    "name": "ipython",
    "version": 3
   },
   "file_extension": ".py",
   "mimetype": "text/x-python",
   "name": "python",
   "nbconvert_exporter": "python",
   "pygments_lexer": "ipython3",
   "version": "3.6.4"
  }
 },
 "nbformat": 4,
 "nbformat_minor": 2
}
