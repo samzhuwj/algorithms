{
 "cells": [
  {
   "cell_type": "code",
   "execution_count": 1,
   "metadata": {},
   "outputs": [],
   "source": [
    "def target_sum(lt,tt):\n",
    "    res = []\n",
    "    res_idx = []\n",
    "    for i in range(len(lt)-1):\n",
    "        l, r = i, len(lt)-1\n",
    "        while l < r:\n",
    "            s = lt[l] + lt[r]\n",
    "            if s > tt:\n",
    "                r -= 1\n",
    "            elif s < tt:\n",
    "                l += 1\n",
    "            else:\n",
    "                res.append((lt[l], lt[r]))\n",
    "                res_idx.append((l,r))\n",
    "                l += 1\n",
    "                r -= 1\n",
    "    print(\"Pairs of values:\",list(dict.fromkeys(res)))\n",
    "    print(\"Pairs of indices:\",list(dict.fromkeys(res_idx)))"
   ]
  },
  {
   "cell_type": "code",
   "execution_count": 2,
   "metadata": {},
   "outputs": [
    {
     "name": "stdout",
     "output_type": "stream",
     "text": [
      "Pairs of values: [(3, 9), (5, 7)]\n",
      "Pairs of indices: [(1, 4), (2, 3)]\n"
     ]
    }
   ],
   "source": [
    "tup1 = ([1,3,5,7,9],12)\n",
    "lt = tup1[0]\n",
    "tt = tup1[1]\n",
    "target_sum(lt,tt)"
   ]
  },
  {
   "cell_type": "code",
   "execution_count": 3,
   "metadata": {},
   "outputs": [
    {
     "name": "stdout",
     "output_type": "stream",
     "text": [
      "Pairs of values: [(1, 9), (2, 8), (3, 7), (4, 6)]\n",
      "Pairs of indices: [(0, 8), (1, 7), (2, 6), (3, 5)]\n"
     ]
    }
   ],
   "source": [
    "tup2 = ([1,2,3,4,5,6,7,8,9],10)\n",
    "lt = tup2[0]\n",
    "tt = tup2[1]\n",
    "target_sum(lt,tt)"
   ]
  },
  {
   "cell_type": "code",
   "execution_count": null,
   "metadata": {},
   "outputs": [],
   "source": []
  }
 ],
 "metadata": {
  "kernelspec": {
   "display_name": "Python 3",
   "language": "python",
   "name": "python3"
  },
  "language_info": {
   "codemirror_mode": {
    "name": "ipython",
    "version": 3
   },
   "file_extension": ".py",
   "mimetype": "text/x-python",
   "name": "python",
   "nbconvert_exporter": "python",
   "pygments_lexer": "ipython3",
   "version": "3.6.4"
  }
 },
 "nbformat": 4,
 "nbformat_minor": 2
}
