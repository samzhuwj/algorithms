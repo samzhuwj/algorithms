{
 "cells": [
  {
   "cell_type": "markdown",
   "metadata": {},
   "source": [
    "对于大整数计算，一般都要用某种方法转化，否则会溢出。但是python无此担忧了。\n",
    "Python支持“无限精度”的整数，一般情况下不用考虑整数溢出的问题，而且Python Int 整数类型与任意精度的Long整数类可以无缝转换，超过Int 范围的情况都将转换成Long类型。\n",
    "注意：前面的“无限精度”是有引号的。事实上也是有限制的，对于32位的机器，其上限是：2^32-1。真的足够大了。\n",
    "为什么Python能够做到呢？请有兴趣刨根问底的去看Python的有关源码。本文不赘述。\n",
    "在其它语言中，通常用“分治法”解决大整数相乘问题。\n",
    "但是，这里提供一个非常有意思的计算两个整数相乘的方法，算是做为大整数相乘的演示。\n",
    "两个整数相乘：阿拉伯乘法.详细描述见：http://ualr.edu/lasmoller/medievalmult.html"
   ]
  },
  {
   "cell_type": "code",
   "execution_count": 6,
   "metadata": {},
   "outputs": [
    {
     "name": "stdout",
     "output_type": "stream",
     "text": [
      "2\n"
     ]
    }
   ],
   "source": [
    "from bisect import *\n",
    "\n",
    "def bisectSearch(lst, x):        \n",
    "    i = bisect_left(lst, x)         #bisect_left(lst,x)得到x在已经排序的lst中的位置\n",
    "    if i != len(lst) and lst[i] == x:\n",
    "        return i\n",
    "\n",
    "if __name__==\"__main__\":\n",
    "    lst = sorted([2,5,3,8])\n",
    "    print(bisectSearch(lst,5))\n"
   ]
  },
  {
   "cell_type": "code",
   "execution_count": 8,
   "metadata": {},
   "outputs": [
    {
     "name": "stdout",
     "output_type": "stream",
     "text": [
      "2\n"
     ]
    }
   ],
   "source": [
    "def bsearch(l, value):\n",
    "    lo, hi = 0, len(l)-1\n",
    "    while lo <= hi:\n",
    "        mid = int((lo + hi) / 2)\n",
    "        if l[mid] < value:\n",
    "            lo = mid + 1\n",
    "        elif value < l[mid]:\n",
    "            hi = mid - 1\n",
    "        else:\n",
    "            return mid\n",
    "    return -1\n",
    "\n",
    "if __name__==\"__main__\":\n",
    "    lst = sorted([2,5,3,8])\n",
    "    print(bsearch(lst,5))"
   ]
  },
  {
   "cell_type": "code",
   "execution_count": null,
   "metadata": {},
   "outputs": [],
   "source": []
  }
 ],
 "metadata": {
  "kernelspec": {
   "display_name": "Python 3",
   "language": "python",
   "name": "python3"
  },
  "language_info": {
   "codemirror_mode": {
    "name": "ipython",
    "version": 3
   },
   "file_extension": ".py",
   "mimetype": "text/x-python",
   "name": "python",
   "nbconvert_exporter": "python",
   "pygments_lexer": "ipython3",
   "version": "3.6.4"
  }
 },
 "nbformat": 4,
 "nbformat_minor": 2
}
