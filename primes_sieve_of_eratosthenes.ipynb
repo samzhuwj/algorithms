{
 "cells": [
  {
   "cell_type": "markdown",
   "metadata": {},
   "source": [
    "Goal: Using sieve of Eratosthenes, primes(x) returns list of all primes less than x\n",
    "\n",
    "Modification:\n",
    "We don't need to check all even numbers, we can make the sieve excluding even numbers and adding 2 to the primes list by default.\n",
    "We are going to make an array of: x / 2 - 1 if number is even, else x / 2 (The -1 with even number it's to exclude the number itself) Because we just need numbers [from 3..x if x is odd]\n",
    "\n",
    "We can get value represented at index i with (i*2 + 3)\n",
    "For example, for x = 10, we start with an array of x / 2 - 1 = 4\n",
    "[1, 1, 1, 1]\n",
    " 3  5  7  9\n",
    "For x = 11:\n",
    "[1, 1, 1, 1, 1]\n",
    " 3  5  7  9  11  # 11 is odd, it's included in the list\n",
    "\n",
    "With this, we have reduced the array size to a half, and complexity it's also a half now."
   ]
  },
  {
   "cell_type": "code",
   "execution_count": 11,
   "metadata": {},
   "outputs": [],
   "source": [
    "def primes(x):\n",
    "    assert(x >= 0)\n",
    "    # If x is even, exclude x from list (-1):\n",
    "    sieve_size = (x//2 - 1) if x % 2 == 0 else (x//2)\n",
    "    sieve = [1 for v in range(sieve_size)]   # Sieve\n",
    "    primes = []                              # List of Primes\n",
    "    if x >= 2:\n",
    "        primes.append(2)                     # Add 2 by default\n",
    "    for i in range(0, sieve_size):\n",
    "        if sieve[i] == 1:\n",
    "            value_at_i = i*2 + 3\n",
    "            primes.append(value_at_i)\n",
    "            for j in range(i, sieve_size, value_at_i):\n",
    "                sieve[j] = 0\n",
    "    return primes"
   ]
  },
  {
   "cell_type": "code",
   "execution_count": 13,
   "metadata": {},
   "outputs": [
    {
     "data": {
      "text/plain": [
       "[2, 3, 5, 7, 11, 13, 17]"
      ]
     },
     "execution_count": 13,
     "metadata": {},
     "output_type": "execute_result"
    }
   ],
   "source": [
    "primes(17)"
   ]
  },
  {
   "cell_type": "code",
   "execution_count": null,
   "metadata": {},
   "outputs": [],
   "source": []
  }
 ],
 "metadata": {
  "kernelspec": {
   "display_name": "Python 3",
   "language": "python",
   "name": "python3"
  },
  "language_info": {
   "codemirror_mode": {
    "name": "ipython",
    "version": 3
   },
   "file_extension": ".py",
   "mimetype": "text/x-python",
   "name": "python",
   "nbconvert_exporter": "python",
   "pygments_lexer": "ipython3",
   "version": "3.6.4"
  }
 },
 "nbformat": 4,
 "nbformat_minor": 2
}
