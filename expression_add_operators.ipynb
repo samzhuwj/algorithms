{
 "cells": [
  {
   "cell_type": "markdown",
   "metadata": {},
   "source": [
    "# Expression Add Operators\n",
    "Goal: Given a string that contains only digits 0-9 and a target value,\n",
    "return all possibilities to add binary operators (not unary) +, -, or *\n",
    "between the digits so they prevuate to the target value.\n",
    "\n",
    "For example:\n",
    "\n",
    "\"123\", 6 -> [\"1+2+3\", \"1*2*3\"]      \n",
    "\"232\", 8 -> [\"2*3+2\", \"2+3*2\"]    \n",
    "\"105\", 5 -> [\"1*0+5\",\"10-5\"]    \n",
    "\"00\", 0 -> [\"0+0\", \"0-0\", \"0*0\"]    \n",
    "\"3456237490\", 9191 -> []"
   ]
  },
  {
   "cell_type": "code",
   "execution_count": 48,
   "metadata": {},
   "outputs": [],
   "source": [
    "def add_operator(num, target):\n",
    "    \"\"\"\n",
    "    :type num: str\n",
    "    :type target: int\n",
    "    :rtype: List[str]\n",
    "    \"\"\"\n",
    "    res = []\n",
    "    if not num: return res\n",
    "    helper(res, \"\", num, target, 0, 0, 0)\n",
    "    return res\n",
    "\n",
    "def helper(res, path, num, target, pos, prev, multed):\n",
    "    if pos == len(num):\n",
    "        if (target == prev):\n",
    "            res.append(path)\n",
    "        return\n",
    "    for i in range(pos, len(num)):\n",
    "        if i != pos and num[pos] == '0': # all digits have to be used\n",
    "            break\n",
    "        cur = int(num[pos:i+1])\n",
    "        if pos == 0:\n",
    "            helper(res, path + str(cur), num, target, i+1, cur, cur)\n",
    "        else:\n",
    "            helper(res, path + \"+\" + str(cur), num, target, i+1, prev + cur, cur)\n",
    "            helper(res, path + \"-\" + str(cur), num, target, i+1, prev - cur, -cur)\n",
    "            helper(res, path + \"*\" + str(cur), num, target, i+1, prev - multed + multed * cur, multed * cur)"
   ]
  },
  {
   "cell_type": "code",
   "execution_count": 49,
   "metadata": {},
   "outputs": [
    {
     "name": "stdout",
     "output_type": "stream",
     "text": [
      "['1+2*3']\n"
     ]
    }
   ],
   "source": [
    "s = \"123\"\n",
    "target = 7\n",
    "print(add_operator(s, target))"
   ]
  },
  {
   "cell_type": "code",
   "execution_count": 50,
   "metadata": {},
   "outputs": [
    {
     "name": "stdout",
     "output_type": "stream",
     "text": [
      "['2*32']\n"
     ]
    }
   ],
   "source": [
    "s = \"232\"\n",
    "target = 64\n",
    "print(add_operator(s, target))"
   ]
  },
  {
   "cell_type": "code",
   "execution_count": 51,
   "metadata": {},
   "outputs": [
    {
     "name": "stdout",
     "output_type": "stream",
     "text": [
      "['1+2+3+0+4*5', '1+2+3-0+4*5', '1*2*3+0+4*5', '1*2*3-0+4*5']\n"
     ]
    }
   ],
   "source": [
    "s = \"123045\"\n",
    "target = 26\n",
    "print(add_operator(s, target))"
   ]
  },
  {
   "cell_type": "code",
   "execution_count": 52,
   "metadata": {},
   "outputs": [
    {
     "name": "stdout",
     "output_type": "stream",
     "text": [
      "[]\n"
     ]
    }
   ],
   "source": [
    "s = \"3456237490\"\n",
    "target = 9191\n",
    "print(add_operator(s, target))"
   ]
  }
 ],
 "metadata": {
  "kernelspec": {
   "display_name": "Python 3",
   "language": "python",
   "name": "python3"
  },
  "language_info": {
   "codemirror_mode": {
    "name": "ipython",
    "version": 3
   },
   "file_extension": ".py",
   "mimetype": "text/x-python",
   "name": "python",
   "nbconvert_exporter": "python",
   "pygments_lexer": "ipython3",
   "version": "3.6.4"
  }
 },
 "nbformat": 4,
 "nbformat_minor": 2
}
