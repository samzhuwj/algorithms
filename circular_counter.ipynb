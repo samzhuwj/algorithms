{
 "cells": [
  {
   "cell_type": "markdown",
   "metadata": {},
   "source": [
    "# Circular Counter\n",
    "There are people sitting in a circular fashion,\n",
    "print every third member while removing them,\n",
    "the next counter starts immediately after the member is removed.\n",
    "Print till all the members are exhausted.\n",
    "\n",
    "For example:\n",
    "\n",
    "input: consider 123456789 members sitting in a circular fashion\n",
    "\n",
    "output: 369485271"
   ]
  },
  {
   "cell_type": "code",
   "execution_count": 17,
   "metadata": {},
   "outputs": [
    {
     "name": "stdout",
     "output_type": "stream",
     "text": [
      "3\n",
      "6\n",
      "9\n",
      "4\n",
      "8\n",
      "5\n",
      "2\n",
      "7\n",
      "1\n"
     ]
    }
   ],
   "source": [
    "a = ['1', '2', '3', '4', '5', '6', '7', '8', '9']\n",
    "\n",
    "def circular_counter(int_list, skip):\n",
    "    idx = 0\n",
    "    skip = skip-1\n",
    "    len_list = (len(int_list))\n",
    "    while len_list>0:\n",
    "        idx = (skip+idx)%len_list\n",
    "        print(int_list.pop(idx))\n",
    "        len_list -= 1\n",
    "        \n",
    "circular_counter(a, 3)"
   ]
  },
  {
   "cell_type": "code",
   "execution_count": 18,
   "metadata": {},
   "outputs": [],
   "source": [
    "# idx=2, int_list[2]=3, int_list=['1', '2', '4', '5', '6', '7', '8', '9']\n",
    "# idx=4, int_list[4]=6, int_list=['1', '2', '4', '5', '7', '8', '9']\n",
    "# idx=6, int_list[6]=9, int_list=['1', '2', '4', '5', '7', '8']\n",
    "# idx=2, int_list[2]=4, int_list=['1', '2', 5', '7', '8']\n",
    "# idx=4, int_list[4]=8, int_list=['1', '2', 5', '7']\n",
    "# idx=2, int_list[2]=5, int_list=['1', '2', '7']\n",
    "# idx=1, int_list[1]=2, int_list=['1', '7']\n",
    "# idx=1, int_list[1]=7, int_list=['1']\n",
    "# idx=0, int_list[0]=1, int_list=[]"
   ]
  }
 ],
 "metadata": {
  "kernelspec": {
   "display_name": "Python 3",
   "language": "python",
   "name": "python3"
  },
  "language_info": {
   "codemirror_mode": {
    "name": "ipython",
    "version": 3
   },
   "file_extension": ".py",
   "mimetype": "text/x-python",
   "name": "python",
   "nbconvert_exporter": "python",
   "pygments_lexer": "ipython3",
   "version": "3.6.4"
  }
 },
 "nbformat": 4,
 "nbformat_minor": 2
}
