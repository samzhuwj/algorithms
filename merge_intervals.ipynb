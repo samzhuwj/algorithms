{
 "cells": [
  {
   "cell_type": "markdown",
   "metadata": {},
   "source": [
    "# Merge Intervals\n",
    "given a collection of intervals, merge all overlapping intervals\n",
    "\n",
    "For example:\n",
    "\n",
    "ins: [1,3],[2,6],[8,10],[15,18]\n",
    "\n",
    "outs: [1,6],[8,10],[15,18]"
   ]
  },
  {
   "cell_type": "code",
   "execution_count": 2,
   "metadata": {},
   "outputs": [
    {
     "name": "stdout",
     "output_type": "stream",
     "text": [
      "[1,3][2,6][8,10][15,18]\n",
      "[1,6][8,10][15,18]\n"
     ]
    }
   ],
   "source": [
    "class Interval(object):\n",
    "    def __init__(self, s=0, e=0):\n",
    "        self.start = s\n",
    "        self.end = e\n",
    "\n",
    "def merge(intervals):\n",
    "    out = []\n",
    "    for i in sorted(intervals, key=lambda i: i.start):\n",
    "        if out and i.start <= out[-1].end:\n",
    "            out[-1].end = max(out[-1].end, i.end)\n",
    "        else:\n",
    "            out += i,\n",
    "    return out\n",
    "\n",
    "def print_intervals(intervals):\n",
    "    res = []\n",
    "    for i in intervals:\n",
    "        res.append('['+str(i.start)+','+str(i.end)+']')\n",
    "    print(\"\".join(res))\n",
    "\n",
    "if __name__ == \"__main__\":\n",
    "    given = [[1,3],[2,6],[8,10],[15,18]]\n",
    "    intervals = []\n",
    "    for l, r in given:\n",
    "        intervals.append(Interval(l,r))\n",
    "    print_intervals(intervals)\n",
    "    print_intervals(merge(intervals))"
   ]
  },
  {
   "cell_type": "code",
   "execution_count": null,
   "metadata": {},
   "outputs": [],
   "source": []
  }
 ],
 "metadata": {
  "kernelspec": {
   "display_name": "Python 3",
   "language": "python",
   "name": "python3"
  },
  "language_info": {
   "codemirror_mode": {
    "name": "ipython",
    "version": 3
   },
   "file_extension": ".py",
   "mimetype": "text/x-python",
   "name": "python",
   "nbconvert_exporter": "python",
   "pygments_lexer": "ipython3",
   "version": "3.6.4"
  }
 },
 "nbformat": 4,
 "nbformat_minor": 2
}
