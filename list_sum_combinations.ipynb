{
 "cells": [
  {
   "cell_type": "markdown",
   "metadata": {},
   "source": [
    "# List Sum Combinations\n",
    "Goal: take one element from each of the list, add it to the target sum, print all those three-element combinations.\n",
    "\n",
    "For example:\n",
    "\n",
    "input: A = [1, 2, 3, 3], \n",
    "B = [2, 3, 3, 4], \n",
    "C = [1, 2, 2, 2], \n",
    "target = 7\n",
    "\n",
    "output: [[1, 2, 4], [1, 3, 3], [1, 3, 3], [1, 3, 3], [1, 3, 3], [1, 4, 2], [2, 2, 3], [2, 2, 3], [2, 3, 2], [2, 3, 2], [3, 2, 2], [3, 2, 2]]"
   ]
  },
  {
   "cell_type": "code",
   "execution_count": 11,
   "metadata": {},
   "outputs": [],
   "source": [
    "def construct_candidates(constructed_sofar):\n",
    "    global A,B,C\n",
    "    arr = A\n",
    "    if 1 == len(constructed_sofar):\n",
    "        arr = B\n",
    "    elif 2 == len(constructed_sofar):\n",
    "        arr = C\n",
    "    return arr\n",
    "\n",
    "\n",
    "def over(constructed_sofar):\n",
    "    global target\n",
    "    sum = 0\n",
    "    to_stop, reached_target = False, False\n",
    "    for elem in constructed_sofar:\n",
    "        sum += elem\n",
    "    if sum >= target or len(constructed_sofar) >= 3:\n",
    "        to_stop = True\n",
    "        if sum == target and 3 == len(constructed_sofar):\n",
    "            reached_target = True\n",
    "    return to_stop, reached_target\n",
    "\n",
    "\n",
    "def backtrack(constructed_sofar):\n",
    "    to_stop, reached_target = over(constructed_sofar)\n",
    "    if to_stop:\n",
    "        if reached_target:\n",
    "            print(constructed_sofar)\n",
    "        return\n",
    "    candidates = construct_candidates(constructed_sofar)\n",
    "    for candidate in candidates:\n",
    "        constructed_sofar.append(candidate)\n",
    "        backtrack(constructed_sofar[:])\n",
    "        constructed_sofar.pop()"
   ]
  },
  {
   "cell_type": "code",
   "execution_count": 12,
   "metadata": {},
   "outputs": [
    {
     "name": "stdout",
     "output_type": "stream",
     "text": [
      "[1, 4, 2]\n",
      "[1, 4, 2]\n",
      "[1, 4, 2]\n",
      "[2, 3, 2]\n",
      "[2, 3, 2]\n",
      "[2, 3, 2]\n",
      "[2, 3, 2]\n",
      "[2, 3, 2]\n",
      "[2, 3, 2]\n",
      "[2, 4, 1]\n",
      "[3, 2, 2]\n",
      "[3, 2, 2]\n",
      "[3, 2, 2]\n",
      "[3, 3, 1]\n",
      "[3, 3, 1]\n",
      "[3, 2, 2]\n",
      "[3, 2, 2]\n",
      "[3, 2, 2]\n",
      "[3, 3, 1]\n",
      "[3, 3, 1]\n"
     ]
    }
   ],
   "source": [
    "A = [1, 2, 3, 3]\n",
    "B = [2, 3, 3, 4]\n",
    "C = [1, 2, 2, 2]\n",
    "target = 7\n",
    "backtrack([])"
   ]
  },
  {
   "cell_type": "code",
   "execution_count": 5,
   "metadata": {},
   "outputs": [],
   "source": [
    "def check_sum(N, *nums):\n",
    "    if sum(x for x in nums) == N:\n",
    "        return (True, nums)\n",
    "    else:\n",
    "        return (False, nums)"
   ]
  },
  {
   "cell_type": "code",
   "execution_count": 6,
   "metadata": {},
   "outputs": [
    {
     "name": "stdout",
     "output_type": "stream",
     "text": [
      "{(2, 3, 2), (3, 2, 2), (3, 3, 1), (1, 4, 2), (2, 4, 1)}\n"
     ]
    }
   ],
   "source": [
    "import itertools\n",
    "from functools import partial\n",
    "A = [1,2,3,3]\n",
    "B = [2,3,3,4]\n",
    "C = [1,2,2,2]\n",
    "target = 7\n",
    "\n",
    "pro = itertools.product(A,B,C)\n",
    "func = partial(check_sum, target)\n",
    "sums = list(itertools.starmap(func, pro))\n",
    "\n",
    "res = set()\n",
    "for s in sums:\n",
    "    if s[0] == True and s[1] not in res:\n",
    "        res.add(s[1])\n",
    "print(res)"
   ]
  },
  {
   "cell_type": "code",
   "execution_count": null,
   "metadata": {},
   "outputs": [],
   "source": []
  }
 ],
 "metadata": {
  "kernelspec": {
   "display_name": "Python 3",
   "language": "python",
   "name": "python3"
  },
  "language_info": {
   "codemirror_mode": {
    "name": "ipython",
    "version": 3
   },
   "file_extension": ".py",
   "mimetype": "text/x-python",
   "name": "python",
   "nbconvert_exporter": "python",
   "pygments_lexer": "ipython3",
   "version": "3.6.4"
  }
 },
 "nbformat": 4,
 "nbformat_minor": 2
}
