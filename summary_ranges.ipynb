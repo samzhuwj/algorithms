{
 "cells": [
  {
   "cell_type": "markdown",
   "metadata": {},
   "source": [
    "# Summary Ranges\n",
    "Goal: Given a sorted integer list without duplicates,\n",
    "return the summary of its ranges.\n",
    "\n",
    "For example:\n",
    "\n",
    "input: [0,1,2,4,5,7]\n",
    "\n",
    "output: [\"0->2\",\"4->5\",\"7\"]"
   ]
  },
  {
   "cell_type": "code",
   "execution_count": 1,
   "metadata": {},
   "outputs": [],
   "source": [
    "def summary_ranges(nums):\n",
    "    res = []\n",
    "    if len(nums) == 1:\n",
    "        return [str(nums[0])]\n",
    "    i = 0\n",
    "    while i < len(nums):\n",
    "        num = nums[i]\n",
    "        while i+1 < len(nums) and nums[i+1] - nums[i] == 1:\n",
    "            i += 1\n",
    "        if nums[i] != num:\n",
    "            res.append(str(num) + \"->\" + str(nums[i]))\n",
    "        else:\n",
    "            res.append(str(num))\n",
    "        i += 1\n",
    "    return res"
   ]
  },
  {
   "cell_type": "code",
   "execution_count": 4,
   "metadata": {},
   "outputs": [
    {
     "data": {
      "text/plain": [
       "['0->2', '4', '8', '16->17']"
      ]
     },
     "execution_count": 4,
     "metadata": {},
     "output_type": "execute_result"
    }
   ],
   "source": [
    "a = [0,1,2,4,8,16,17]\n",
    "summary_ranges(a)"
   ]
  },
  {
   "cell_type": "code",
   "execution_count": null,
   "metadata": {},
   "outputs": [],
   "source": []
  }
 ],
 "metadata": {
  "kernelspec": {
   "display_name": "Python 3",
   "language": "python",
   "name": "python3"
  },
  "language_info": {
   "codemirror_mode": {
    "name": "ipython",
    "version": 3
   },
   "file_extension": ".py",
   "mimetype": "text/x-python",
   "name": "python",
   "nbconvert_exporter": "python",
   "pygments_lexer": "ipython3",
   "version": "3.6.4"
  }
 },
 "nbformat": 4,
 "nbformat_minor": 2
}
