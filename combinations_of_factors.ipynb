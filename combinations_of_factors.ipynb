{
 "cells": [
  {
   "cell_type": "markdown",
   "metadata": {},
   "source": [
    "# Combinations of Factors\n",
    "Goal: Write a function that takes an integer n and return all possible combinations of its factors.  \n",
    "You may assume that n is always positive.  \n",
    "Factors should be greater than 1 and less than n.  \n",
    "\n",
    "For example:  \n",
    "input: 1  \n",
    "output:  \n",
    "[]  \n",
    "input: 37  \n",
    "output:  \n",
    "[]  \n",
    "input: 12  \n",
    "output:  \n",
    "[  \n",
    "  [2, 6],  \n",
    "  [2, 2, 3],  \n",
    "  [3, 4]  \n",
    "]  \n",
    "input: 32  \n",
    "output:  \n",
    "[  \n",
    "  [2, 16],  \n",
    "  [2, 2, 8],  \n",
    "  [2, 2, 2, 4],  \n",
    "  [2, 2, 2, 2, 2],  \n",
    "  [2, 4, 4],  \n",
    "  [4, 8]  \n",
    "]  "
   ]
  },
  {
   "cell_type": "code",
   "execution_count": 10,
   "metadata": {},
   "outputs": [],
   "source": [
    "def getFactors(n):\n",
    "    todo, combis = [(n, 2, [])], []\n",
    "    while todo:\n",
    "        n, i, combi = todo.pop()\n",
    "        while i * i <= n:\n",
    "            if n % i == 0:\n",
    "                combis += combi + [i, int(n/i)],\n",
    "                todo += (n/i, i, combi+[i]),\n",
    "            i += 1\n",
    "    return combis"
   ]
  },
  {
   "cell_type": "code",
   "execution_count": 11,
   "metadata": {},
   "outputs": [
    {
     "data": {
      "text/plain": [
       "[]"
      ]
     },
     "execution_count": 11,
     "metadata": {},
     "output_type": "execute_result"
    }
   ],
   "source": [
    "getFactors(1)"
   ]
  },
  {
   "cell_type": "code",
   "execution_count": 12,
   "metadata": {},
   "outputs": [
    {
     "data": {
      "text/plain": [
       "[]"
      ]
     },
     "execution_count": 12,
     "metadata": {},
     "output_type": "execute_result"
    }
   ],
   "source": [
    "getFactors(37)"
   ]
  },
  {
   "cell_type": "code",
   "execution_count": 13,
   "metadata": {},
   "outputs": [
    {
     "data": {
      "text/plain": [
       "[[2, 6], [3, 4], [2, 2, 3]]"
      ]
     },
     "execution_count": 13,
     "metadata": {},
     "output_type": "execute_result"
    }
   ],
   "source": [
    "getFactors(12)"
   ]
  },
  {
   "cell_type": "code",
   "execution_count": 14,
   "metadata": {},
   "outputs": [
    {
     "data": {
      "text/plain": [
       "[[2, 16], [4, 8], [2, 2, 8], [2, 4, 4], [2, 2, 2, 4], [2, 2, 2, 2, 2]]"
      ]
     },
     "execution_count": 14,
     "metadata": {},
     "output_type": "execute_result"
    }
   ],
   "source": [
    "getFactors(32)"
   ]
  },
  {
   "cell_type": "code",
   "execution_count": 15,
   "metadata": {},
   "outputs": [
    {
     "data": {
      "text/plain": [
       "[[2, 2]]"
      ]
     },
     "execution_count": 15,
     "metadata": {},
     "output_type": "execute_result"
    }
   ],
   "source": [
    "getFactors(4)"
   ]
  }
 ],
 "metadata": {
  "kernelspec": {
   "display_name": "Python 3",
   "language": "python",
   "name": "python3"
  },
  "language_info": {
   "codemirror_mode": {
    "name": "ipython",
    "version": 3
   },
   "file_extension": ".py",
   "mimetype": "text/x-python",
   "name": "python",
   "nbconvert_exporter": "python",
   "pygments_lexer": "ipython3",
   "version": "3.6.4"
  }
 },
 "nbformat": 4,
 "nbformat_minor": 2
}
