{
 "cells": [
  {
   "cell_type": "markdown",
   "metadata": {},
   "source": [
    "Count the number of unique paths from a[0][0] to a[m-1][n-1]  \n",
    "We are allowed to move either right or down from a cell in the matrix.  \n",
    "Approaches:  \n",
    "(i) Recursion- Recurse starting from a[m-1][n-1], upwards and leftwards, add the path count of both recursions and return count.  \n",
    "(ii) Dynamic Programming- Start from a[0][0].Store the count in a count matrix. Return count[m-1][n-1]  \n",
    "T(n)- O(mn), S(n)- O(mn)"
   ]
  },
  {
   "cell_type": "code",
   "execution_count": 11,
   "metadata": {},
   "outputs": [
    {
     "name": "stdout",
     "output_type": "stream",
     "text": [
      "3 3\n",
      "6\n"
     ]
    }
   ],
   "source": [
    "def count_paths(m, n):\n",
    "    if m < 1 or n < 1:\n",
    "        return -1\n",
    "    count = [[None for j in range(n)] for i in range(m)]\n",
    "\n",
    "    for i in range(n):\n",
    "        count[0][i] = 1\n",
    "    for j in range(m):\n",
    "        count[j][0] = 1\n",
    "    for i in range(1, m):\n",
    "        for j in range(1, n):\n",
    "            count[i][j] = count[i-1][j] + count[i][j-1]\n",
    "\n",
    "    print(count[m-1][n-1])\n",
    "\n",
    "\n",
    "def main():\n",
    "    m, n = map(int, input().split())\n",
    "    count_paths(m, n)\n",
    "\n",
    "if __name__ == '__main__':\n",
    "    main()"
   ]
  }
 ],
 "metadata": {
  "kernelspec": {
   "display_name": "Python 3",
   "language": "python",
   "name": "python3"
  },
  "language_info": {
   "codemirror_mode": {
    "name": "ipython",
    "version": 3
   },
   "file_extension": ".py",
   "mimetype": "text/x-python",
   "name": "python",
   "nbconvert_exporter": "python",
   "pygments_lexer": "ipython3",
   "version": "3.6.4"
  }
 },
 "nbformat": 4,
 "nbformat_minor": 2
}
