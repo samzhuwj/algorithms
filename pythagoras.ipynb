{
 "cells": [
  {
   "cell_type": "markdown",
   "metadata": {},
   "source": [
    "# Pythagoras\n",
    "Input two of the three side in right angled triangle and return the third. use \"?\" to indicate the unknown side. "
   ]
  },
  {
   "cell_type": "code",
   "execution_count": 9,
   "metadata": {},
   "outputs": [],
   "source": [
    "def pythagoras(opposite,adjacent,hypotenuse):\n",
    "    try:\n",
    "        if opposite == str(\"?\"):\n",
    "            return (\"Opposite = \" + str(((hypotenuse**2) - (adjacent**2))**0.5))\n",
    "        elif adjacent == str(\"?\"):\n",
    "            return (\"Adjacent = \" + str(((hypotenuse**2) - (opposite**2))**0.5))\n",
    "        elif hypotenuse == str(\"?\"):\n",
    "            return (\"Hypotenuse = \" + str(((opposite**2) + (adjacent**2))**0.5))\n",
    "        else:\n",
    "            return \"You already know the answer!\"\n",
    "    except:\n",
    "        print(\"Error, check your input. You must know 2 of the 3 variables.\")"
   ]
  },
  {
   "cell_type": "code",
   "execution_count": 10,
   "metadata": {},
   "outputs": [
    {
     "data": {
      "text/plain": [
       "'Hypotenuse = 5.0'"
      ]
     },
     "execution_count": 10,
     "metadata": {},
     "output_type": "execute_result"
    }
   ],
   "source": [
    "pythagoras(3,4,'?')"
   ]
  },
  {
   "cell_type": "code",
   "execution_count": 11,
   "metadata": {},
   "outputs": [
    {
     "data": {
      "text/plain": [
       "'Opposite = 3.0'"
      ]
     },
     "execution_count": 11,
     "metadata": {},
     "output_type": "execute_result"
    }
   ],
   "source": [
    "pythagoras('?',4,5)"
   ]
  },
  {
   "cell_type": "code",
   "execution_count": 12,
   "metadata": {},
   "outputs": [
    {
     "data": {
      "text/plain": [
       "'Adjacent = 4.0'"
      ]
     },
     "execution_count": 12,
     "metadata": {},
     "output_type": "execute_result"
    }
   ],
   "source": [
    "pythagoras(3,'?',5)"
   ]
  },
  {
   "cell_type": "code",
   "execution_count": null,
   "metadata": {},
   "outputs": [],
   "source": []
  }
 ],
 "metadata": {
  "kernelspec": {
   "display_name": "Python 3",
   "language": "python",
   "name": "python3"
  },
  "language_info": {
   "codemirror_mode": {
    "name": "ipython",
    "version": 3
   },
   "file_extension": ".py",
   "mimetype": "text/x-python",
   "name": "python",
   "nbconvert_exporter": "python",
   "pygments_lexer": "ipython3",
   "version": "3.6.4"
  }
 },
 "nbformat": 4,
 "nbformat_minor": 2
}
