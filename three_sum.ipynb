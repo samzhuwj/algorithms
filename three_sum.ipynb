{
 "cells": [
  {
   "cell_type": "markdown",
   "metadata": {},
   "source": [
    "# Three Sum\n",
    "Goal: Given an list L of n integers, are there elements a, b, c in L\n",
    "such that a + b + c = 0?\n",
    "Find all unique triplets in the list which gives the sum of zero.\n",
    "\n",
    "For example:\n",
    "\n",
    "input: L = [-1, 0, 1, 2, -1, -4]\n",
    "\n",
    "output: \n",
    "[\n",
    "  [-1, 0, 1],\n",
    "  [-1, -1, 2]\n",
    "]"
   ]
  },
  {
   "cell_type": "code",
   "execution_count": 1,
   "metadata": {},
   "outputs": [],
   "source": [
    "def three_sum(nums:\"List[int]\")->\"List[int]\":\n",
    "    res = []\n",
    "    nums.sort()\n",
    "    for i in range(len(nums)-2):\n",
    "        if i > 0 and nums[i] == nums[i-1]:\n",
    "            continue\n",
    "        l, r = i+1, len(nums)-1\n",
    "        while l < r:\n",
    "            s = nums[i] + nums[l] + nums[r]\n",
    "            if s > 0:\n",
    "                r -= 1\n",
    "            elif s < 0:\n",
    "                l += 1\n",
    "            else:\n",
    "                # found three sum\n",
    "                res.append((nums[i], nums[l], nums[r]))\n",
    "                # remove duplicates\n",
    "                while l < r and nums[l] == nums[l+1]:\n",
    "                    l+=1\n",
    "                while l < r and nums[r] == nums[r-1]:\n",
    "                    r -= 1\n",
    "                l += 1\n",
    "                r -= 1\n",
    "    return res"
   ]
  },
  {
   "cell_type": "code",
   "execution_count": 2,
   "metadata": {},
   "outputs": [
    {
     "name": "stdout",
     "output_type": "stream",
     "text": [
      "[(-1, -1, 2), (-1, 0, 1)]\n"
     ]
    }
   ],
   "source": [
    "if __name__ == \"__main__\":\n",
    "    x = [-1,0,1,2,-1,-4]\n",
    "    print(three_sum(x))"
   ]
  },
  {
   "cell_type": "code",
   "execution_count": null,
   "metadata": {},
   "outputs": [],
   "source": []
  }
 ],
 "metadata": {
  "kernelspec": {
   "display_name": "Python 3",
   "language": "python",
   "name": "python3"
  },
  "language_info": {
   "codemirror_mode": {
    "name": "ipython",
    "version": 3
   },
   "file_extension": ".py",
   "mimetype": "text/x-python",
   "name": "python",
   "nbconvert_exporter": "python",
   "pygments_lexer": "ipython3",
   "version": "3.6.4"
  }
 },
 "nbformat": 4,
 "nbformat_minor": 2
}
