{
 "cells": [
  {
   "cell_type": "markdown",
   "metadata": {},
   "source": [
    "# Missing Ranges\n",
    "Goal: find missing ranges between low and high in the given list\n",
    "\n",
    "For example:\n",
    "\n",
    "ins: [3,5], lo=1, hi=10\n",
    "\n",
    "outs: [1->2, 4, 6->10]"
   ]
  },
  {
   "cell_type": "code",
   "execution_count": 7,
   "metadata": {},
   "outputs": [],
   "source": [
    "def missing_ranges(nums, lo, hi):\n",
    "    res = []\n",
    "    start = lo\n",
    "    for num in nums:\n",
    "        if num < start:\n",
    "            continue\n",
    "        if num == start:\n",
    "            start += 1\n",
    "            continue\n",
    "        res.append(get_range(start, num-1))\n",
    "        start = num + 1\n",
    "    if start <= hi:\n",
    "        res.append(get_range(start, hi))\n",
    "    return res\n",
    "\n",
    "def get_range(n1, n2):\n",
    "    if n1 == n2:\n",
    "        return str(n1)\n",
    "    else:\n",
    "        return str(n1) + \"->\" + str(n2)"
   ]
  },
  {
   "cell_type": "code",
   "execution_count": 8,
   "metadata": {},
   "outputs": [
    {
     "data": {
      "text/plain": [
       "'17'"
      ]
     },
     "execution_count": 8,
     "metadata": {},
     "output_type": "execute_result"
    }
   ],
   "source": [
    "get_range(17,17)"
   ]
  },
  {
   "cell_type": "code",
   "execution_count": 9,
   "metadata": {},
   "outputs": [
    {
     "name": "stdout",
     "output_type": "stream",
     "text": [
      "17\n"
     ]
    }
   ],
   "source": [
    "print(get_range(17,17))"
   ]
  },
  {
   "cell_type": "code",
   "execution_count": 10,
   "metadata": {},
   "outputs": [
    {
     "data": {
      "text/plain": [
       "'17->34'"
      ]
     },
     "execution_count": 10,
     "metadata": {},
     "output_type": "execute_result"
    }
   ],
   "source": [
    "get_range(17,34)"
   ]
  },
  {
   "cell_type": "code",
   "execution_count": 11,
   "metadata": {},
   "outputs": [
    {
     "name": "stdout",
     "output_type": "stream",
     "text": [
      "17->34\n"
     ]
    }
   ],
   "source": [
    "print(get_range(17,34))"
   ]
  },
  {
   "cell_type": "code",
   "execution_count": 13,
   "metadata": {},
   "outputs": [
    {
     "name": "stdout",
     "output_type": "stream",
     "text": [
      "original: [2, 3, 5, 7, 11, 13, 17, 19]\n",
      "missing range:  ['0->1', '4', '6', '8->10', '12', '14->16', '18', '20']\n"
     ]
    }
   ],
   "source": [
    "nums = [2,3,5,7,11,13,17,19]\n",
    "print(\"original:\", nums)\n",
    "print(\"missing range: \", missing_ranges(nums,0,20))"
   ]
  },
  {
   "cell_type": "code",
   "execution_count": null,
   "metadata": {},
   "outputs": [],
   "source": []
  }
 ],
 "metadata": {
  "kernelspec": {
   "display_name": "Python 3",
   "language": "python",
   "name": "python3"
  },
  "language_info": {
   "codemirror_mode": {
    "name": "ipython",
    "version": 3
   },
   "file_extension": ".py",
   "mimetype": "text/x-python",
   "name": "python",
   "nbconvert_exporter": "python",
   "pygments_lexer": "ipython3",
   "version": "3.6.4"
  }
 },
 "nbformat": 4,
 "nbformat_minor": 2
}
