{
 "cells": [
  {
   "cell_type": "markdown",
   "metadata": {},
   "source": [
    "# Generate Abbreviations\n",
    "Goal: given input word, return the list of abbreviations.\n",
    "\n",
    "For example:  \n",
    "input: word  \n",
    "output: [1ord, w1rd, wo1d, w2d, 3d, w3 ... etc]  "
   ]
  },
  {
   "cell_type": "code",
   "execution_count": 12,
   "metadata": {},
   "outputs": [],
   "source": [
    "def generate_abbreviations(word):\n",
    "    result = []\n",
    "    backtrack(result, word, 0, 0, \"\")\n",
    "    return result"
   ]
  },
  {
   "cell_type": "code",
   "execution_count": 16,
   "metadata": {},
   "outputs": [],
   "source": [
    "def backtrack(result, word, pos, count, cur):\n",
    "    if pos == len(word):\n",
    "        if count > 0:\n",
    "            cur += str(count)\n",
    "        result.append(cur)\n",
    "        return\n",
    "\n",
    "    if count > 0:\n",
    "        # add the current word\n",
    "        backtrack(result, word, pos+1, 0, cur+str(count)+word[pos])\n",
    "    else:\n",
    "        backtrack(result, word, pos+1, 0, cur+word[pos])\n",
    "    # skip the current word\n",
    "    backtrack(result, word, pos+1, count+1, cur)"
   ]
  },
  {
   "cell_type": "code",
   "execution_count": 15,
   "metadata": {},
   "outputs": [
    {
     "data": {
      "text/plain": [
       "['peace',\n",
       " 'peac1',\n",
       " 'pea1e',\n",
       " 'pea2',\n",
       " 'pe1ce',\n",
       " 'pe1c1',\n",
       " 'pe2e',\n",
       " 'pe3',\n",
       " 'p1ace',\n",
       " 'p1ac1',\n",
       " 'p1a1e',\n",
       " 'p1a2',\n",
       " 'p2ce',\n",
       " 'p2c1',\n",
       " 'p3e',\n",
       " 'p4',\n",
       " '1eace',\n",
       " '1eac1',\n",
       " '1ea1e',\n",
       " '1ea2',\n",
       " '1e1ce',\n",
       " '1e1c1',\n",
       " '1e2e',\n",
       " '1e3',\n",
       " '2ace',\n",
       " '2ac1',\n",
       " '2a1e',\n",
       " '2a2',\n",
       " '3ce',\n",
       " '3c1',\n",
       " '4e',\n",
       " '5']"
      ]
     },
     "execution_count": 15,
     "metadata": {},
     "output_type": "execute_result"
    }
   ],
   "source": [
    "a = \"peace\"\n",
    "generate_abbreviations(a)"
   ]
  },
  {
   "cell_type": "code",
   "execution_count": null,
   "metadata": {},
   "outputs": [],
   "source": []
  }
 ],
 "metadata": {
  "kernelspec": {
   "display_name": "Python 3",
   "language": "python",
   "name": "python3"
  },
  "language_info": {
   "codemirror_mode": {
    "name": "ipython",
    "version": 3
   },
   "file_extension": ".py",
   "mimetype": "text/x-python",
   "name": "python",
   "nbconvert_exporter": "python",
   "pygments_lexer": "ipython3",
   "version": "3.6.4"
  }
 },
 "nbformat": 4,
 "nbformat_minor": 2
}
