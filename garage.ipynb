{
 "cells": [
  {
   "cell_type": "markdown",
   "metadata": {},
   "source": [
    "# Garage\n",
    "There is a parking lot with only one empty spot. Given the initial state\n",
    "of the parking lot and the final state. Each step we are only allowed to\n",
    "move a car\n",
    "out of its place and move it into the empty spot.\n",
    "The goal is to find out the least movement needed to rearrange\n",
    "the parking lot from the initial state to the final state.\n",
    "\n",
    "For example:\n",
    "\n",
    "The initial state is an array: [1,2,3,0,4]\n",
    "\n",
    "The final state is: [0,3,2,1,4]\n",
    "\n",
    "We can swap 1 with 0 in the initial array to get [0,2,3,1,4] and so on.\n",
    "Each step swap with 0 only"
   ]
  },
  {
   "cell_type": "markdown",
   "metadata": {},
   "source": [
    "step1: swap 1 with 0, get [0,2,3,1,4]\n",
    "\n",
    "step2: swap 2 with 0, get [2,0,3,1,4]\n",
    "\n",
    "step3: swap 3 with 0, get [2,3,0,1,4]\n",
    "\n",
    "step4: swap 2 with 0, get [0,3,2,1,4]"
   ]
  },
  {
   "cell_type": "code",
   "execution_count": 2,
   "metadata": {},
   "outputs": [
    {
     "name": "stdout",
     "output_type": "stream",
     "text": [
      "initial: [1, 2, 3, 0, 4]\n",
      "final: [0, 3, 2, 1, 4]\n",
      "4\n"
     ]
    }
   ],
   "source": [
    "def garage(initial, final):\n",
    "    steps = 0\n",
    "    while initial != final:\n",
    "        zero = initial.index(0)\n",
    "        if zero != final.index(0):\n",
    "            car_to_move = final[zero]\n",
    "            pos = initial.index(car_to_move)\n",
    "            initial[zero], initial[pos] = initial[pos], initial[zero]\n",
    "        else:\n",
    "            for i in range(len(initial)):\n",
    "                if initial[i] != final[i]:\n",
    "                    initial[zero], initial[i] = initial[i], initial[zero]\n",
    "                    break\n",
    "        steps += 1\n",
    "    return steps\n",
    "\n",
    "if __name__ == \"__main__\":\n",
    "    initial = [1, 2, 3, 0, 4]\n",
    "    final = [0, 3, 2, 1, 4]\n",
    "    print(\"initial:\", initial)\n",
    "    print(\"final:\", final)\n",
    "    print(garage(initial, final))"
   ]
  },
  {
   "cell_type": "code",
   "execution_count": null,
   "metadata": {},
   "outputs": [],
   "source": []
  }
 ],
 "metadata": {
  "kernelspec": {
   "display_name": "Python 3",
   "language": "python",
   "name": "python3"
  },
  "language_info": {
   "codemirror_mode": {
    "name": "ipython",
    "version": 3
   },
   "file_extension": ".py",
   "mimetype": "text/x-python",
   "name": "python",
   "nbconvert_exporter": "python",
   "pygments_lexer": "ipython3",
   "version": "3.6.4"
  }
 },
 "nbformat": 4,
 "nbformat_minor": 2
}
